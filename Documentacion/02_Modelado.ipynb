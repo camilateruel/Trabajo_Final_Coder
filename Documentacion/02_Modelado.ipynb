{
  "cells": [
    {
      "cell_type": "markdown",
      "id": "cb206b70",
      "metadata": {
        "id": "cb206b70"
      },
      "source": [
        "![image.png](data:image/png;base64,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)\n",
        "\n",
        "\n",
        "# TRABAJO FINAL CODER HOUSE\n",
        "\n",
        "\n",
        "Camila Teruel - Carlos Medina"
      ]
    },
    {
      "cell_type": "markdown",
      "id": "8af72b47",
      "metadata": {
        "id": "8af72b47"
      },
      "source": [
        "# Contenido\n",
        "1. [Importar datos y análisis iniciales](#1)\n",
        "2. [Data Wrangling](#2)\n",
        "3. [Conclusiones de Análisis inicial](#3)"
      ]
    },
    {
      "cell_type": "markdown",
      "id": "f34d4660",
      "metadata": {
        "id": "f34d4660"
      },
      "source": [
        "### 1. Importar Librerías y Datos <a name=\"1\"></a>"
      ]
    },
    {
      "cell_type": "code",
      "execution_count": 1,
      "id": "c6d7d636",
      "metadata": {
        "id": "c6d7d636"
      },
      "outputs": [],
      "source": [
        "import pandas as pd\n",
        "import numpy as np\n",
        "from seaborn import boxplot\n",
        "import matplotlib.pyplot as plt\n",
        "import seaborn as sns\n",
        "from seaborn import distplot\n",
        "import pandas_profiling\n",
        "from pandas_profiling import ProfileReport\n",
        "import pydotplus\n",
        "from IPython.display import Image"
      ]
    },
    {
      "cell_type": "code",
      "execution_count": 2,
      "id": "69c04679",
      "metadata": {
        "colab": {
          "base_uri": "https://localhost:8080/",
          "height": 206
        },
        "id": "69c04679",
        "outputId": "55a8cec3-de75-4809-9b21-0c252c7b3a05"
      },
      "outputs": [
        {
          "output_type": "execute_result",
          "data": {
            "text/html": [
              "\n",
              "  <div id=\"df-eb24a488-be90-43bf-8e5f-b4272768dc7c\">\n",
              "    <div class=\"colab-df-container\">\n",
              "      <div>\n",
              "<style scoped>\n",
              "    .dataframe tbody tr th:only-of-type {\n",
              "        vertical-align: middle;\n",
              "    }\n",
              "\n",
              "    .dataframe tbody tr th {\n",
              "        vertical-align: top;\n",
              "    }\n",
              "\n",
              "    .dataframe thead th {\n",
              "        text-align: right;\n",
              "    }\n",
              "</style>\n",
              "<table border=\"1\" class=\"dataframe\">\n",
              "  <thead>\n",
              "    <tr style=\"text-align: right;\">\n",
              "      <th></th>\n",
              "      <th>age</th>\n",
              "      <th>sex</th>\n",
              "      <th>cp</th>\n",
              "      <th>trestbps</th>\n",
              "      <th>chol</th>\n",
              "      <th>fbs</th>\n",
              "      <th>restecg</th>\n",
              "      <th>thalach</th>\n",
              "      <th>exang</th>\n",
              "      <th>oldpeak</th>\n",
              "      <th>slope</th>\n",
              "      <th>ca</th>\n",
              "      <th>thal</th>\n",
              "      <th>target</th>\n",
              "    </tr>\n",
              "  </thead>\n",
              "  <tbody>\n",
              "    <tr>\n",
              "      <th>0</th>\n",
              "      <td>63</td>\n",
              "      <td>1</td>\n",
              "      <td>3</td>\n",
              "      <td>145</td>\n",
              "      <td>233</td>\n",
              "      <td>1</td>\n",
              "      <td>0</td>\n",
              "      <td>150</td>\n",
              "      <td>0</td>\n",
              "      <td>2.3</td>\n",
              "      <td>0</td>\n",
              "      <td>0</td>\n",
              "      <td>1</td>\n",
              "      <td>1</td>\n",
              "    </tr>\n",
              "    <tr>\n",
              "      <th>1</th>\n",
              "      <td>37</td>\n",
              "      <td>1</td>\n",
              "      <td>2</td>\n",
              "      <td>130</td>\n",
              "      <td>250</td>\n",
              "      <td>0</td>\n",
              "      <td>1</td>\n",
              "      <td>187</td>\n",
              "      <td>0</td>\n",
              "      <td>3.5</td>\n",
              "      <td>0</td>\n",
              "      <td>0</td>\n",
              "      <td>2</td>\n",
              "      <td>1</td>\n",
              "    </tr>\n",
              "    <tr>\n",
              "      <th>2</th>\n",
              "      <td>41</td>\n",
              "      <td>0</td>\n",
              "      <td>1</td>\n",
              "      <td>130</td>\n",
              "      <td>204</td>\n",
              "      <td>0</td>\n",
              "      <td>0</td>\n",
              "      <td>172</td>\n",
              "      <td>0</td>\n",
              "      <td>1.4</td>\n",
              "      <td>2</td>\n",
              "      <td>0</td>\n",
              "      <td>2</td>\n",
              "      <td>1</td>\n",
              "    </tr>\n",
              "    <tr>\n",
              "      <th>3</th>\n",
              "      <td>56</td>\n",
              "      <td>1</td>\n",
              "      <td>1</td>\n",
              "      <td>120</td>\n",
              "      <td>236</td>\n",
              "      <td>0</td>\n",
              "      <td>1</td>\n",
              "      <td>178</td>\n",
              "      <td>0</td>\n",
              "      <td>0.8</td>\n",
              "      <td>2</td>\n",
              "      <td>0</td>\n",
              "      <td>2</td>\n",
              "      <td>1</td>\n",
              "    </tr>\n",
              "    <tr>\n",
              "      <th>4</th>\n",
              "      <td>57</td>\n",
              "      <td>0</td>\n",
              "      <td>0</td>\n",
              "      <td>120</td>\n",
              "      <td>354</td>\n",
              "      <td>0</td>\n",
              "      <td>1</td>\n",
              "      <td>163</td>\n",
              "      <td>1</td>\n",
              "      <td>0.6</td>\n",
              "      <td>2</td>\n",
              "      <td>0</td>\n",
              "      <td>2</td>\n",
              "      <td>1</td>\n",
              "    </tr>\n",
              "  </tbody>\n",
              "</table>\n",
              "</div>\n",
              "      <button class=\"colab-df-convert\" onclick=\"convertToInteractive('df-eb24a488-be90-43bf-8e5f-b4272768dc7c')\"\n",
              "              title=\"Convert this dataframe to an interactive table.\"\n",
              "              style=\"display:none;\">\n",
              "        \n",
              "  <svg xmlns=\"http://www.w3.org/2000/svg\" height=\"24px\"viewBox=\"0 0 24 24\"\n",
              "       width=\"24px\">\n",
              "    <path d=\"M0 0h24v24H0V0z\" fill=\"none\"/>\n",
              "    <path d=\"M18.56 5.44l.94 2.06.94-2.06 2.06-.94-2.06-.94-.94-2.06-.94 2.06-2.06.94zm-11 1L8.5 8.5l.94-2.06 2.06-.94-2.06-.94L8.5 2.5l-.94 2.06-2.06.94zm10 10l.94 2.06.94-2.06 2.06-.94-2.06-.94-.94-2.06-.94 2.06-2.06.94z\"/><path d=\"M17.41 7.96l-1.37-1.37c-.4-.4-.92-.59-1.43-.59-.52 0-1.04.2-1.43.59L10.3 9.45l-7.72 7.72c-.78.78-.78 2.05 0 2.83L4 21.41c.39.39.9.59 1.41.59.51 0 1.02-.2 1.41-.59l7.78-7.78 2.81-2.81c.8-.78.8-2.07 0-2.86zM5.41 20L4 18.59l7.72-7.72 1.47 1.35L5.41 20z\"/>\n",
              "  </svg>\n",
              "      </button>\n",
              "      \n",
              "  <style>\n",
              "    .colab-df-container {\n",
              "      display:flex;\n",
              "      flex-wrap:wrap;\n",
              "      gap: 12px;\n",
              "    }\n",
              "\n",
              "    .colab-df-convert {\n",
              "      background-color: #E8F0FE;\n",
              "      border: none;\n",
              "      border-radius: 50%;\n",
              "      cursor: pointer;\n",
              "      display: none;\n",
              "      fill: #1967D2;\n",
              "      height: 32px;\n",
              "      padding: 0 0 0 0;\n",
              "      width: 32px;\n",
              "    }\n",
              "\n",
              "    .colab-df-convert:hover {\n",
              "      background-color: #E2EBFA;\n",
              "      box-shadow: 0px 1px 2px rgba(60, 64, 67, 0.3), 0px 1px 3px 1px rgba(60, 64, 67, 0.15);\n",
              "      fill: #174EA6;\n",
              "    }\n",
              "\n",
              "    [theme=dark] .colab-df-convert {\n",
              "      background-color: #3B4455;\n",
              "      fill: #D2E3FC;\n",
              "    }\n",
              "\n",
              "    [theme=dark] .colab-df-convert:hover {\n",
              "      background-color: #434B5C;\n",
              "      box-shadow: 0px 1px 3px 1px rgba(0, 0, 0, 0.15);\n",
              "      filter: drop-shadow(0px 1px 2px rgba(0, 0, 0, 0.3));\n",
              "      fill: #FFFFFF;\n",
              "    }\n",
              "  </style>\n",
              "\n",
              "      <script>\n",
              "        const buttonEl =\n",
              "          document.querySelector('#df-eb24a488-be90-43bf-8e5f-b4272768dc7c button.colab-df-convert');\n",
              "        buttonEl.style.display =\n",
              "          google.colab.kernel.accessAllowed ? 'block' : 'none';\n",
              "\n",
              "        async function convertToInteractive(key) {\n",
              "          const element = document.querySelector('#df-eb24a488-be90-43bf-8e5f-b4272768dc7c');\n",
              "          const dataTable =\n",
              "            await google.colab.kernel.invokeFunction('convertToInteractive',\n",
              "                                                     [key], {});\n",
              "          if (!dataTable) return;\n",
              "\n",
              "          const docLinkHtml = 'Like what you see? Visit the ' +\n",
              "            '<a target=\"_blank\" href=https://colab.research.google.com/notebooks/data_table.ipynb>data table notebook</a>'\n",
              "            + ' to learn more about interactive tables.';\n",
              "          element.innerHTML = '';\n",
              "          dataTable['output_type'] = 'display_data';\n",
              "          await google.colab.output.renderOutput(dataTable, element);\n",
              "          const docLink = document.createElement('div');\n",
              "          docLink.innerHTML = docLinkHtml;\n",
              "          element.appendChild(docLink);\n",
              "        }\n",
              "      </script>\n",
              "    </div>\n",
              "  </div>\n",
              "  "
            ],
            "text/plain": [
              "   age  sex  cp  trestbps  chol  fbs  ...  exang  oldpeak  slope  ca  thal  target\n",
              "0   63    1   3       145   233    1  ...      0      2.3      0   0     1       1\n",
              "1   37    1   2       130   250    0  ...      0      3.5      0   0     2       1\n",
              "2   41    0   1       130   204    0  ...      0      1.4      2   0     2       1\n",
              "3   56    1   1       120   236    0  ...      0      0.8      2   0     2       1\n",
              "4   57    0   0       120   354    0  ...      1      0.6      2   0     2       1\n",
              "\n",
              "[5 rows x 14 columns]"
            ]
          },
          "metadata": {},
          "execution_count": 2
        }
      ],
      "source": [
        "url = 'https://raw.githubusercontent.com/camilateruel/Trabajo_Final_Coder/main/Dataset/heart.csv'\n",
        "df_corazon = pd.read_csv(url)\n",
        "df_corazon.head()"
      ]
    },
    {
      "cell_type": "code",
      "execution_count": 3,
      "id": "5e90222a",
      "metadata": {
        "colab": {
          "base_uri": "https://localhost:8080/",
          "height": 270
        },
        "id": "5e90222a",
        "outputId": "79719cf0-17b5-445b-9686-9408a14f7fba"
      },
      "outputs": [
        {
          "output_type": "execute_result",
          "data": {
            "text/html": [
              "\n",
              "  <div id=\"df-7217d060-6c19-410d-8d0b-cb1bcab2a10f\">\n",
              "    <div class=\"colab-df-container\">\n",
              "      <div>\n",
              "<style scoped>\n",
              "    .dataframe tbody tr th:only-of-type {\n",
              "        vertical-align: middle;\n",
              "    }\n",
              "\n",
              "    .dataframe tbody tr th {\n",
              "        vertical-align: top;\n",
              "    }\n",
              "\n",
              "    .dataframe thead th {\n",
              "        text-align: right;\n",
              "    }\n",
              "</style>\n",
              "<table border=\"1\" class=\"dataframe\">\n",
              "  <thead>\n",
              "    <tr style=\"text-align: right;\">\n",
              "      <th></th>\n",
              "      <th>Edad</th>\n",
              "      <th>Genero</th>\n",
              "      <th>Tipo_dolor_en_pecho</th>\n",
              "      <th>Presión_arterial_reposo</th>\n",
              "      <th>Colesterol</th>\n",
              "      <th>Glucemia_ayunas</th>\n",
              "      <th>Resultados_electrocardiográficos_reposo</th>\n",
              "      <th>Frecuencia_cardíaca_máx</th>\n",
              "      <th>Angina_inducida_ejercicio</th>\n",
              "      <th>Depresión</th>\n",
              "      <th>Punto_maximo</th>\n",
              "      <th>Arterias_con_problemas</th>\n",
              "      <th>Talasemia</th>\n",
              "      <th>Target</th>\n",
              "    </tr>\n",
              "  </thead>\n",
              "  <tbody>\n",
              "    <tr>\n",
              "      <th>0</th>\n",
              "      <td>63</td>\n",
              "      <td>1</td>\n",
              "      <td>3</td>\n",
              "      <td>145</td>\n",
              "      <td>233</td>\n",
              "      <td>1</td>\n",
              "      <td>0</td>\n",
              "      <td>150</td>\n",
              "      <td>0</td>\n",
              "      <td>2.3</td>\n",
              "      <td>0</td>\n",
              "      <td>0</td>\n",
              "      <td>1</td>\n",
              "      <td>1</td>\n",
              "    </tr>\n",
              "    <tr>\n",
              "      <th>1</th>\n",
              "      <td>37</td>\n",
              "      <td>1</td>\n",
              "      <td>2</td>\n",
              "      <td>130</td>\n",
              "      <td>250</td>\n",
              "      <td>0</td>\n",
              "      <td>1</td>\n",
              "      <td>187</td>\n",
              "      <td>0</td>\n",
              "      <td>3.5</td>\n",
              "      <td>0</td>\n",
              "      <td>0</td>\n",
              "      <td>2</td>\n",
              "      <td>1</td>\n",
              "    </tr>\n",
              "    <tr>\n",
              "      <th>2</th>\n",
              "      <td>41</td>\n",
              "      <td>0</td>\n",
              "      <td>1</td>\n",
              "      <td>130</td>\n",
              "      <td>204</td>\n",
              "      <td>0</td>\n",
              "      <td>0</td>\n",
              "      <td>172</td>\n",
              "      <td>0</td>\n",
              "      <td>1.4</td>\n",
              "      <td>2</td>\n",
              "      <td>0</td>\n",
              "      <td>2</td>\n",
              "      <td>1</td>\n",
              "    </tr>\n",
              "    <tr>\n",
              "      <th>3</th>\n",
              "      <td>56</td>\n",
              "      <td>1</td>\n",
              "      <td>1</td>\n",
              "      <td>120</td>\n",
              "      <td>236</td>\n",
              "      <td>0</td>\n",
              "      <td>1</td>\n",
              "      <td>178</td>\n",
              "      <td>0</td>\n",
              "      <td>0.8</td>\n",
              "      <td>2</td>\n",
              "      <td>0</td>\n",
              "      <td>2</td>\n",
              "      <td>1</td>\n",
              "    </tr>\n",
              "    <tr>\n",
              "      <th>4</th>\n",
              "      <td>57</td>\n",
              "      <td>0</td>\n",
              "      <td>0</td>\n",
              "      <td>120</td>\n",
              "      <td>354</td>\n",
              "      <td>0</td>\n",
              "      <td>1</td>\n",
              "      <td>163</td>\n",
              "      <td>1</td>\n",
              "      <td>0.6</td>\n",
              "      <td>2</td>\n",
              "      <td>0</td>\n",
              "      <td>2</td>\n",
              "      <td>1</td>\n",
              "    </tr>\n",
              "  </tbody>\n",
              "</table>\n",
              "</div>\n",
              "      <button class=\"colab-df-convert\" onclick=\"convertToInteractive('df-7217d060-6c19-410d-8d0b-cb1bcab2a10f')\"\n",
              "              title=\"Convert this dataframe to an interactive table.\"\n",
              "              style=\"display:none;\">\n",
              "        \n",
              "  <svg xmlns=\"http://www.w3.org/2000/svg\" height=\"24px\"viewBox=\"0 0 24 24\"\n",
              "       width=\"24px\">\n",
              "    <path d=\"M0 0h24v24H0V0z\" fill=\"none\"/>\n",
              "    <path d=\"M18.56 5.44l.94 2.06.94-2.06 2.06-.94-2.06-.94-.94-2.06-.94 2.06-2.06.94zm-11 1L8.5 8.5l.94-2.06 2.06-.94-2.06-.94L8.5 2.5l-.94 2.06-2.06.94zm10 10l.94 2.06.94-2.06 2.06-.94-2.06-.94-.94-2.06-.94 2.06-2.06.94z\"/><path d=\"M17.41 7.96l-1.37-1.37c-.4-.4-.92-.59-1.43-.59-.52 0-1.04.2-1.43.59L10.3 9.45l-7.72 7.72c-.78.78-.78 2.05 0 2.83L4 21.41c.39.39.9.59 1.41.59.51 0 1.02-.2 1.41-.59l7.78-7.78 2.81-2.81c.8-.78.8-2.07 0-2.86zM5.41 20L4 18.59l7.72-7.72 1.47 1.35L5.41 20z\"/>\n",
              "  </svg>\n",
              "      </button>\n",
              "      \n",
              "  <style>\n",
              "    .colab-df-container {\n",
              "      display:flex;\n",
              "      flex-wrap:wrap;\n",
              "      gap: 12px;\n",
              "    }\n",
              "\n",
              "    .colab-df-convert {\n",
              "      background-color: #E8F0FE;\n",
              "      border: none;\n",
              "      border-radius: 50%;\n",
              "      cursor: pointer;\n",
              "      display: none;\n",
              "      fill: #1967D2;\n",
              "      height: 32px;\n",
              "      padding: 0 0 0 0;\n",
              "      width: 32px;\n",
              "    }\n",
              "\n",
              "    .colab-df-convert:hover {\n",
              "      background-color: #E2EBFA;\n",
              "      box-shadow: 0px 1px 2px rgba(60, 64, 67, 0.3), 0px 1px 3px 1px rgba(60, 64, 67, 0.15);\n",
              "      fill: #174EA6;\n",
              "    }\n",
              "\n",
              "    [theme=dark] .colab-df-convert {\n",
              "      background-color: #3B4455;\n",
              "      fill: #D2E3FC;\n",
              "    }\n",
              "\n",
              "    [theme=dark] .colab-df-convert:hover {\n",
              "      background-color: #434B5C;\n",
              "      box-shadow: 0px 1px 3px 1px rgba(0, 0, 0, 0.15);\n",
              "      filter: drop-shadow(0px 1px 2px rgba(0, 0, 0, 0.3));\n",
              "      fill: #FFFFFF;\n",
              "    }\n",
              "  </style>\n",
              "\n",
              "      <script>\n",
              "        const buttonEl =\n",
              "          document.querySelector('#df-7217d060-6c19-410d-8d0b-cb1bcab2a10f button.colab-df-convert');\n",
              "        buttonEl.style.display =\n",
              "          google.colab.kernel.accessAllowed ? 'block' : 'none';\n",
              "\n",
              "        async function convertToInteractive(key) {\n",
              "          const element = document.querySelector('#df-7217d060-6c19-410d-8d0b-cb1bcab2a10f');\n",
              "          const dataTable =\n",
              "            await google.colab.kernel.invokeFunction('convertToInteractive',\n",
              "                                                     [key], {});\n",
              "          if (!dataTable) return;\n",
              "\n",
              "          const docLinkHtml = 'Like what you see? Visit the ' +\n",
              "            '<a target=\"_blank\" href=https://colab.research.google.com/notebooks/data_table.ipynb>data table notebook</a>'\n",
              "            + ' to learn more about interactive tables.';\n",
              "          element.innerHTML = '';\n",
              "          dataTable['output_type'] = 'display_data';\n",
              "          await google.colab.output.renderOutput(dataTable, element);\n",
              "          const docLink = document.createElement('div');\n",
              "          docLink.innerHTML = docLinkHtml;\n",
              "          element.appendChild(docLink);\n",
              "        }\n",
              "      </script>\n",
              "    </div>\n",
              "  </div>\n",
              "  "
            ],
            "text/plain": [
              "   Edad  Genero  Tipo_dolor_en_pecho  ...  Arterias_con_problemas  Talasemia  Target\n",
              "0    63       1                    3  ...                       0          1       1\n",
              "1    37       1                    2  ...                       0          2       1\n",
              "2    41       0                    1  ...                       0          2       1\n",
              "3    56       1                    1  ...                       0          2       1\n",
              "4    57       0                    0  ...                       0          2       1\n",
              "\n",
              "[5 rows x 14 columns]"
            ]
          },
          "metadata": {},
          "execution_count": 3
        }
      ],
      "source": [
        "df_corazon.columns = ['Edad', 'Genero', 'Tipo_dolor_en_pecho', \n",
        "              'Presión_arterial_reposo', 'Colesterol', \n",
        "              'Glucemia_ayunas', 'Resultados_electrocardiográficos_reposo', \n",
        "              'Frecuencia_cardíaca_máx', 'Angina_inducida_ejercicio', \n",
        "              'Depresión', 'Punto_maximo', 'Arterias_con_problemas', 'Talasemia', 'Target']\n",
        "df_corazon.head()"
      ]
    },
    {
      "cell_type": "markdown",
      "source": [
        "## Selección de modelo"
      ],
      "metadata": {
        "id": "WyEDNYARmJGM"
      },
      "id": "WyEDNYARmJGM"
    },
    {
      "cell_type": "markdown",
      "source": [
        "Para la selección del modelo, decidimos comparar tres modelos y elegir aquel con un mayor nivel de accuracy y que tenga menores desvios entre los resultados de Train y Test\n",
        "\n",
        "\n",
        "**Variable Target: Target** \n",
        "\n",
        "\n",
        "Que nos dice si el paciente tiene o no una enfermedad cardíaca."
      ],
      "metadata": {
        "id": "eWImjM93mnl4"
      },
      "id": "eWImjM93mnl4"
    },
    {
      "cell_type": "code",
      "execution_count": 4,
      "metadata": {
        "id": "qpW14QEWEnZH"
      },
      "outputs": [],
      "source": [
        "from sklearn.model_selection import train_test_split"
      ],
      "id": "qpW14QEWEnZH"
    },
    {
      "cell_type": "code",
      "execution_count": 5,
      "metadata": {
        "id": "YO-GQn3-DueW"
      },
      "outputs": [],
      "source": [
        "#Seleccionamos todas las columnas\n",
        "X =  df_corazon.drop('Target', axis=1) #Elimino de mi dataset la variable a predecir\n",
        "#Defino los datos correspondientes a las etiquetas\n",
        "y = df_corazon.Target"
      ],
      "id": "YO-GQn3-DueW"
    },
    {
      "cell_type": "code",
      "source": [
        "#Separo los datos de \"train\" en entrenamiento y prueba para probar los algoritmos\n",
        "X_train, X_test, y_train, y_test = train_test_split(X, y, test_size=0.3, random_state=42)"
      ],
      "metadata": {
        "id": "0I2WfNvTDobp"
      },
      "id": "0I2WfNvTDobp",
      "execution_count": 6,
      "outputs": []
    },
    {
      "cell_type": "code",
      "source": [
        "import six\n",
        "import sys\n",
        "sys.modules['sklearn.externals.six'] = six"
      ],
      "metadata": {
        "id": "MJeeenr2qryz"
      },
      "id": "MJeeenr2qryz",
      "execution_count": 7,
      "outputs": []
    },
    {
      "cell_type": "markdown",
      "metadata": {
        "id": "wNoWbN3HDmZg"
      },
      "source": [
        "**Árbol de decisión**"
      ],
      "id": "wNoWbN3HDmZg"
    },
    {
      "cell_type": "code",
      "execution_count": 8,
      "metadata": {
        "id": "WleUCKX4ErbF"
      },
      "outputs": [],
      "source": [
        "#Arbol de decisión\n",
        "from sklearn.tree import DecisionTreeClassifier\n",
        "from sklearn.externals.six import StringIO\n",
        "from sklearn.tree import DecisionTreeClassifier, export_graphviz"
      ],
      "id": "WleUCKX4ErbF"
    },
    {
      "cell_type": "code",
      "source": [
        "dt = []\n",
        "for i in range(1, len(X.columns) + 1):\n",
        "    dtc = DecisionTreeClassifier(max_features = i)\n",
        "    dtc.fit(X_train, y_train)\n",
        "    dt.append(dtc.score(X_test, y_test))"
      ],
      "metadata": {
        "id": "z9amFSqVG6en"
      },
      "id": "z9amFSqVG6en",
      "execution_count": 9,
      "outputs": []
    },
    {
      "cell_type": "markdown",
      "source": [
        "Vemos que cantidad features tener en cuenta en el arbol de decision\n",
        "\n"
      ],
      "metadata": {
        "id": "NivUhnkwJB6o"
      },
      "id": "NivUhnkwJB6o"
    },
    {
      "cell_type": "code",
      "source": [
        "plt.plot([i for i in range(1, len(X.columns) + 1)], dt, color = 'red')\n",
        "for i in range(1, len(X.columns) + 1):\n",
        "    plt.text(i, dt[i-1], (i, round(dt[i-1]*100, 2)))\n",
        "plt.xticks([i for i in range(1, len(X.columns) + 1)])\n",
        "plt.xlabel('Features')\n",
        "plt.ylabel('Scores')"
      ],
      "metadata": {
        "colab": {
          "base_uri": "https://localhost:8080/",
          "height": 297
        },
        "id": "UzXlkL-mG7EL",
        "outputId": "3e3cc142-3b4e-4f6f-8198-12d6da6e2533"
      },
      "id": "UzXlkL-mG7EL",
      "execution_count": 10,
      "outputs": [
        {
          "output_type": "execute_result",
          "data": {
            "text/plain": [
              "Text(0, 0.5, 'Scores')"
            ]
          },
          "metadata": {},
          "execution_count": 10
        },
        {
          "output_type": "display_data",
          "data": {
            "image/png": "[encoded data removed]",
            "text/plain": [
              "<Figure size 432x288 with 1 Axes>"
            ]
          },
          "metadata": {
            "needs_background": "light"
          }
        }
      ]
    },
    {
      "cell_type": "markdown",
      "source": [
        "El optimo es 3"
      ],
      "metadata": {
        "id": "iVWE8MItJNY_"
      },
      "id": "iVWE8MItJNY_"
    },
    {
      "cell_type": "code",
      "source": [
        "algoritmo = DecisionTreeClassifier(max_depth=2, random_state = 42,max_features = 3)"
      ],
      "metadata": {
        "id": "KWwm-AUDJTCT"
      },
      "id": "KWwm-AUDJTCT",
      "execution_count": 11,
      "outputs": []
    },
    {
      "cell_type": "code",
      "execution_count": 12,
      "metadata": {
        "colab": {
          "base_uri": "https://localhost:8080/"
        },
        "id": "eMgrzDvdEu-g",
        "outputId": "875e75f0-2f14-4574-a0ce-a13f49231502"
      },
      "outputs": [
        {
          "output_type": "execute_result",
          "data": {
            "text/plain": [
              "DecisionTreeClassifier(max_depth=2, max_features=3, random_state=42)"
            ]
          },
          "metadata": {},
          "execution_count": 12
        }
      ],
      "source": [
        "#Entrenamos el modelo\n",
        "algoritmo.fit(X_train, y_train)"
      ],
      "id": "eMgrzDvdEu-g"
    },
    {
      "cell_type": "code",
      "execution_count": 13,
      "metadata": {
        "id": "DspZfJnfEwvO"
      },
      "outputs": [],
      "source": [
        "#Realizo una predicción\n",
        "y_train_pred_tr = algoritmo.predict(X_train) #Prediccion en Train\n",
        "y_test_pred_tr = algoritmo.predict(X_test) #Prediccion en Test"
      ],
      "id": "DspZfJnfEwvO"
    },
    {
      "cell_type": "code",
      "execution_count": 14,
      "metadata": {
        "colab": {
          "base_uri": "https://localhost:8080/"
        },
        "id": "9tsSwrcGE3Jf",
        "outputId": "603c205e-6b8e-4925-d32e-7ec5c49e2d26"
      },
      "outputs": [
        {
          "output_type": "stream",
          "name": "stdout",
          "text": [
            "Train Accuracy 74.06%\n",
            "Test Accuracy 72.53%\n"
          ]
        }
      ],
      "source": [
        "from sklearn.metrics import accuracy_score\n",
        "\n",
        "#Calculo el accuracy en Train\n",
        "train_accuracy_tr = accuracy_score(y_train, y_train_pred_tr)\n",
        "\n",
        "#Calculo el accuracy en Test\n",
        "test_accuracy_tr = accuracy_score(y_test, y_test_pred_tr)\n",
        "\n",
        "\n",
        "print(\"Train Accuracy {:.2f}%\".format(train_accuracy_tr*100))\n",
        "print(\"Test Accuracy {:.2f}%\".format(test_accuracy_tr*100))"
      ],
      "id": "9tsSwrcGE3Jf"
    },
    {
      "cell_type": "code",
      "execution_count": 15,
      "metadata": {
        "colab": {
          "base_uri": "https://localhost:8080/"
        },
        "id": "CE6LqjJZJRbw",
        "outputId": "4ce80090-721b-4bcb-b74c-3362ea80f91c"
      },
      "outputs": [
        {
          "output_type": "stream",
          "name": "stdout",
          "text": [
            "Test Accuracy 72.53%\n"
          ]
        }
      ],
      "source": [
        "ar_score=algoritmo.score(X_test,y_test)\n",
        "print(\"Test Accuracy {:.2f}%\".format(ar_score*100))"
      ],
      "id": "CE6LqjJZJRbw"
    },
    {
      "cell_type": "code",
      "source": [
        "dot_data = StringIO()"
      ],
      "metadata": {
        "id": "EIwa8UVNpRF2"
      },
      "id": "EIwa8UVNpRF2",
      "execution_count": 16,
      "outputs": []
    },
    {
      "cell_type": "code",
      "source": [
        "export_graphviz(algoritmo, out_file = dot_data)"
      ],
      "metadata": {
        "id": "askcn1C4qxsC"
      },
      "id": "askcn1C4qxsC",
      "execution_count": 17,
      "outputs": []
    },
    {
      "cell_type": "code",
      "source": [
        "graph = pydotplus.graph_from_dot_data(dot_data.getvalue())\n",
        "dot_data.getvalue()"
      ],
      "metadata": {
        "colab": {
          "base_uri": "https://localhost:8080/",
          "height": 122
        },
        "id": "V_1B1ND1rMFx",
        "outputId": "9d4f02ef-5f57-49d0-888d-80f8df6c0603"
      },
      "id": "V_1B1ND1rMFx",
      "execution_count": 18,
      "outputs": [
        {
          "output_type": "execute_result",
          "data": {
            "application/vnd.google.colaboratory.intrinsic+json": {
              "type": "string"
            },
            "text/plain": [
              "'digraph Tree {\\nnode [shape=box, fontname=\"helvetica\"] ;\\nedge [fontname=\"helvetica\"] ;\\n0 [label=\"X[4] <= 245.5\\\\ngini = 0.496\\\\nsamples = 212\\\\nvalue = [97, 115]\"] ;\\n1 [label=\"X[9] <= 1.95\\\\ngini = 0.476\\\\nsamples = 115\\\\nvalue = [45, 70]\"] ;\\n0 -> 1 [labeldistance=2.5, labelangle=45, headlabel=\"True\"] ;\\n2 [label=\"gini = 0.407\\\\nsamples = 95\\\\nvalue = [27, 68]\"] ;\\n1 -> 2 ;\\n3 [label=\"gini = 0.18\\\\nsamples = 20\\\\nvalue = [18, 2]\"] ;\\n1 -> 3 ;\\n4 [label=\"X[11] <= 0.5\\\\ngini = 0.497\\\\nsamples = 97\\\\nvalue = [52, 45]\"] ;\\n0 -> 4 [labeldistance=2.5, labelangle=-45, headlabel=\"False\"] ;\\n5 [label=\"gini = 0.436\\\\nsamples = 53\\\\nvalue = [17, 36]\"] ;\\n4 -> 5 ;\\n6 [label=\"gini = 0.325\\\\nsamples = 44\\\\nvalue = [35, 9]\"] ;\\n4 -> 6 ;\\n}'"
            ]
          },
          "metadata": {},
          "execution_count": 18
        }
      ]
    },
    {
      "cell_type": "code",
      "source": [
        "Image(graph.create_png())"
      ],
      "metadata": {
        "colab": {
          "base_uri": "https://localhost:8080/",
          "height": 376
        },
        "id": "tx6dXG7mr4PR",
        "outputId": "df0c09f2-cc0a-4102-bb12-4e3e5ae11bd8"
      },
      "id": "tx6dXG7mr4PR",
      "execution_count": 19,
      "outputs": [
        {
          "output_type": "execute_result",
          "data": {
            "image/png": "[encoded data removed]",
            "text/plain": [
              "<IPython.core.display.Image object>"
            ]
          },
          "metadata": {},
          "execution_count": 19
        }
      ]
    },
    {
      "cell_type": "markdown",
      "metadata": {
        "id": "gZY_5MFdE5KX"
      },
      "source": [
        "**Regresión Logística**"
      ],
      "id": "gZY_5MFdE5KX"
    },
    {
      "cell_type": "code",
      "execution_count": 20,
      "metadata": {
        "colab": {
          "base_uri": "https://localhost:8080/"
        },
        "id": "ocv1SAxzFChM",
        "outputId": "1317995d-efec-4a64-ca7c-5e136ceeac69"
      },
      "outputs": [
        {
          "output_type": "stream",
          "name": "stderr",
          "text": [
            "/usr/local/lib/python3.7/dist-packages/sklearn/linear_model/_logistic.py:818: ConvergenceWarning: lbfgs failed to converge (status=1):\n",
            "STOP: TOTAL NO. of ITERATIONS REACHED LIMIT.\n",
            "\n",
            "Increase the number of iterations (max_iter) or scale the data as shown in:\n",
            "    https://scikit-learn.org/stable/modules/preprocessing.html\n",
            "Please also refer to the documentation for alternative solver options:\n",
            "    https://scikit-learn.org/stable/modules/linear_model.html#logistic-regression\n",
            "  extra_warning_msg=_LOGISTIC_SOLVER_CONVERGENCE_MSG,\n"
          ]
        },
        {
          "output_type": "execute_result",
          "data": {
            "text/plain": [
              "LogisticRegression()"
            ]
          },
          "metadata": {},
          "execution_count": 20
        }
      ],
      "source": [
        "from sklearn.linear_model import LogisticRegression\n",
        "lr = LogisticRegression()\n",
        "lr.fit(X_train,y_train)"
      ],
      "id": "ocv1SAxzFChM"
    },
    {
      "cell_type": "code",
      "source": [
        "#Realizo una predicción\n",
        "y_train_pred_rl = lr.predict(X_train) #Prediccion en Train\n",
        "y_test_pred_rl = lr.predict(X_test) #Prediccion en Test"
      ],
      "metadata": {
        "id": "jO0w9JfaA-Gp"
      },
      "id": "jO0w9JfaA-Gp",
      "execution_count": 21,
      "outputs": []
    },
    {
      "cell_type": "code",
      "source": [
        "#Calculo el accuracy en Train\n",
        "train_accuracy_rl = accuracy_score(y_train, y_train_pred_rl)\n",
        "\n",
        "#Calculo el accuracy en Test\n",
        "test_accuracy_rl = accuracy_score(y_test, y_test_pred_rl)\n",
        "\n",
        "print(\"Train Accuracy {:.2f}%\".format(train_accuracy_rl*100))\n",
        "print(\"Test Accuracy {:.2f}%\".format(test_accuracy_rl*100))"
      ],
      "metadata": {
        "colab": {
          "base_uri": "https://localhost:8080/"
        },
        "id": "ibBYsI4tAHBQ",
        "outputId": "cea8afad-1b3a-4525-fd73-6849bc08b95b"
      },
      "id": "ibBYsI4tAHBQ",
      "execution_count": 22,
      "outputs": [
        {
          "output_type": "stream",
          "name": "stdout",
          "text": [
            "Train Accuracy 87.26%\n",
            "Test Accuracy 81.32%\n"
          ]
        }
      ]
    },
    {
      "cell_type": "code",
      "execution_count": 23,
      "metadata": {
        "colab": {
          "base_uri": "https://localhost:8080/"
        },
        "id": "FK_KErQNFK_h",
        "outputId": "f1f189d6-5348-4852-bbb7-70c965fcf03d"
      },
      "outputs": [
        {
          "output_type": "stream",
          "name": "stdout",
          "text": [
            "Test Accuracy 81.32%\n"
          ]
        }
      ],
      "source": [
        "lr_score = lr.score(X_test,y_test)\n",
        "print(\"Test Accuracy {:.2f}%\".format(lr_score*100))"
      ],
      "id": "FK_KErQNFK_h"
    },
    {
      "cell_type": "code",
      "source": [
        "from sklearn.metrics import confusion_matrix, classification_report \n",
        "cm = confusion_matrix(y_test, y_test_pred_rl) \n",
        "print(\"Confusion Matrix is:\\n\",cm)"
      ],
      "metadata": {
        "colab": {
          "base_uri": "https://localhost:8080/"
        },
        "id": "u4gcG4ZFW0-D",
        "outputId": "549b0b48-1017-46fc-f2c9-97b3175b9f9e"
      },
      "id": "u4gcG4ZFW0-D",
      "execution_count": 30,
      "outputs": [
        {
          "output_type": "stream",
          "name": "stdout",
          "text": [
            "Confusion Matrix is:\n",
            " [[32  9]\n",
            " [ 8 42]]\n"
          ]
        }
      ]
    },
    {
      "cell_type": "code",
      "source": [
        "conf_matrix = pd.DataFrame(data = cm,  \n",
        "                           columns = ['Predicted:0', 'Predicted:1'],  \n",
        "                           index =['Actual:0', 'Actual:1']) \n",
        "plt.figure(figsize = (10, 6)) \n",
        "sns.heatmap(conf_matrix, annot = True, fmt = 'd', cmap = \"Greens\", linecolor=\"Blue\", linewidths=1.5) \n",
        "plt.show() "
      ],
      "metadata": {
        "id": "5N2jZdR5n8ww",
        "colab": {
          "base_uri": "https://localhost:8080/",
          "height": 374
        },
        "outputId": "b5a36562-ff97-4352-b52f-88cbc90cce59"
      },
      "id": "5N2jZdR5n8ww",
      "execution_count": 31,
      "outputs": [
        {
          "output_type": "display_data",
          "data": {
            "image/png": "[encoded data removed]",
            "text/plain": [
              "<Figure size 720x432 with 2 Axes>"
            ]
          },
          "metadata": {
            "needs_background": "light"
          }
        }
      ]
    },
    {
      "cell_type": "markdown",
      "metadata": {
        "id": "hcOcT90GFnzk"
      },
      "source": [
        "**KNN**"
      ],
      "id": "hcOcT90GFnzk"
    },
    {
      "cell_type": "code",
      "execution_count": 24,
      "metadata": {
        "id": "9K7SLpEiFijg"
      },
      "outputs": [],
      "source": [
        "from sklearn import metrics\n",
        "from sklearn.model_selection import cross_val_score\n",
        "from sklearn.neighbors import KNeighborsClassifier\n"
      ],
      "id": "9K7SLpEiFijg"
    },
    {
      "cell_type": "code",
      "source": [
        "print(\"Training K-Nearest Neighbors\")\n",
        "knn = []\n",
        "for i in range(1, 15):\n",
        "    knn_classifier = KNeighborsClassifier(n_neighbors = i)\n",
        "    knn_classifier.fit(X_train, y_train)\n",
        "    knn.append(knn_classifier.score(X_test, y_test))"
      ],
      "metadata": {
        "colab": {
          "base_uri": "https://localhost:8080/"
        },
        "id": "b1lk29KoF8S7",
        "outputId": "db99a32e-e5a1-47dc-9c89-9c8920eb323f"
      },
      "id": "b1lk29KoF8S7",
      "execution_count": 25,
      "outputs": [
        {
          "output_type": "stream",
          "name": "stdout",
          "text": [
            "Training K-Nearest Neighbors\n"
          ]
        }
      ]
    },
    {
      "cell_type": "markdown",
      "source": [
        "Vemos que cantidad de vecinos seria optimo para mejorar el nivel de acierto\n"
      ],
      "metadata": {
        "id": "ZtEAbEFBLpya"
      },
      "id": "ZtEAbEFBLpya"
    },
    {
      "cell_type": "code",
      "source": [
        "plt.plot([i for i in range(1, 15)], knn)\n",
        "for i in range(1, 15):\n",
        "    plt.text(i, knn[i - 1], (i, round(knn[i - 1]*100, 2)))\n",
        "plt.xticks([i for i in range(1, 15)])\n",
        "plt.xlabel('Neighbors')\n",
        "plt.ylabel('Score')\n",
        "plt.title('K-Nearest Neighbors')"
      ],
      "metadata": {
        "colab": {
          "base_uri": "https://localhost:8080/",
          "height": 313
        },
        "id": "5cblhq-vGHOw",
        "outputId": "a7e032f3-915e-4521-ee84-9c30214ba5f6"
      },
      "id": "5cblhq-vGHOw",
      "execution_count": 26,
      "outputs": [
        {
          "output_type": "execute_result",
          "data": {
            "text/plain": [
              "Text(0.5, 1.0, 'K-Nearest Neighbors')"
            ]
          },
          "metadata": {},
          "execution_count": 26
        },
        {
          "output_type": "display_data",
          "data": {
            "image/png": "[encoded data removed]",
            "text/plain": [
              "<Figure size 432x288 with 1 Axes>"
            ]
          },
          "metadata": {
            "needs_background": "light"
          }
        }
      ]
    },
    {
      "cell_type": "markdown",
      "source": [
        "Elegimos 10"
      ],
      "metadata": {
        "id": "ZT-4lCJJLwNa"
      },
      "id": "ZT-4lCJJLwNa"
    },
    {
      "cell_type": "code",
      "source": [
        "knn_classifier = KNeighborsClassifier(n_neighbors = 10)\n",
        "knn_classifier.fit(X_train, y_train)\n",
        "score_test = knn_classifier.score(X_test, y_test)\n",
        "score_val = knn_classifier.score(X_train, y_train)\n"
      ],
      "metadata": {
        "id": "I7HgyqSrLe1b"
      },
      "id": "I7HgyqSrLe1b",
      "execution_count": 27,
      "outputs": []
    },
    {
      "cell_type": "code",
      "execution_count": 28,
      "metadata": {
        "colab": {
          "base_uri": "https://localhost:8080/"
        },
        "id": "QET8o24tGUiR",
        "outputId": "ff662b67-a247-4d09-e7f4-2efcc8cf5a4f"
      },
      "outputs": [
        {
          "output_type": "stream",
          "name": "stdout",
          "text": [
            "Training accuracy of KNN at 10: 69.34%\n",
            "Testing accuracy of KNN at 10: 69.23%\n"
          ]
        }
      ],
      "source": [
        "print(\"Training accuracy of KNN at 10: {:.2f}%\".format(knn_classifier.score(X_train,y_train)*100))\n",
        "print(\"Testing accuracy of KNN at 10: {:.2f}%\".format(knn_classifier.score(X_test,y_test)*100))"
      ],
      "id": "QET8o24tGUiR"
    },
    {
      "cell_type": "code",
      "source": [
        "knn_score = knn_classifier.score(X_test,y_test)\n",
        "print(\"Test Accuracy {:.2f}%\".format(knn_score*100))"
      ],
      "metadata": {
        "colab": {
          "base_uri": "https://localhost:8080/"
        },
        "id": "1wSFFlaJOZ-J",
        "outputId": "d641a423-7ae4-4bbf-f142-f76339bc20b6"
      },
      "id": "1wSFFlaJOZ-J",
      "execution_count": 29,
      "outputs": [
        {
          "output_type": "stream",
          "name": "stdout",
          "text": [
            "Test Accuracy 69.23%\n"
          ]
        }
      ]
    },
    {
      "cell_type": "markdown",
      "source": [
        "**Random Forest**"
      ],
      "metadata": {
        "id": "7biIBkAuEGRZ"
      },
      "id": "7biIBkAuEGRZ"
    },
    {
      "cell_type": "code",
      "source": [
        "from sklearn.ensemble import RandomForestClassifier"
      ],
      "metadata": {
        "id": "htzQ0fC6EOty"
      },
      "id": "htzQ0fC6EOty",
      "execution_count": 32,
      "outputs": []
    },
    {
      "cell_type": "code",
      "source": [
        "print(\"Training Random Forest\")\n",
        "rf = []\n",
        "estimators = [10, 100, 200, 500, 1000]\n",
        "for i in estimators:\n",
        "    rf_classifier = RandomForestClassifier(n_estimators = i, random_state = 100)\n",
        "    rf_classifier.fit(X_train, y_train)\n",
        "    rf.append(rf_classifier.score(X_test, y_test))"
      ],
      "metadata": {
        "colab": {
          "base_uri": "https://localhost:8080/"
        },
        "id": "mOU4_6F-EKWl",
        "outputId": "f6b48df9-af2a-4743-fe7d-ccd8387b2390"
      },
      "id": "mOU4_6F-EKWl",
      "execution_count": 33,
      "outputs": [
        {
          "output_type": "stream",
          "name": "stdout",
          "text": [
            "Training Random Forest\n"
          ]
        }
      ]
    },
    {
      "cell_type": "markdown",
      "source": [
        "Vemos que cantidad n_estimadors usar"
      ],
      "metadata": {
        "id": "vLh9YF49P4Qc"
      },
      "id": "vLh9YF49P4Qc"
    },
    {
      "cell_type": "code",
      "source": [
        "#Plotting Random Forest Results\n",
        "plt.bar([i for i in range(len(estimators))], rf)\n",
        "for i in range(len(estimators)):\n",
        "    plt.text(i, round(rf[i],2), round(rf[i]*100,2))\n",
        "plt.xticks(ticks = [i for i in range(len(estimators))], labels = [str(estimator) for estimator in estimators])\n",
        "plt.xlabel('Estimator')\n",
        "plt.ylabel('Score')\n",
        "plt.title('Random Forest')"
      ],
      "metadata": {
        "colab": {
          "base_uri": "https://localhost:8080/",
          "height": 313
        },
        "id": "BCXwRsIkEdaV",
        "outputId": "215ccb5d-b2f5-4e47-83ab-b6e2bee3a6dc"
      },
      "id": "BCXwRsIkEdaV",
      "execution_count": 34,
      "outputs": [
        {
          "output_type": "execute_result",
          "data": {
            "text/plain": [
              "Text(0.5, 1.0, 'Random Forest')"
            ]
          },
          "metadata": {},
          "execution_count": 34
        },
        {
          "output_type": "display_data",
          "data": {
            "image/png": "[encoded data removed]",
            "text/plain": [
              "<Figure size 432x288 with 1 Axes>"
            ]
          },
          "metadata": {
            "needs_background": "light"
          }
        }
      ]
    },
    {
      "cell_type": "markdown",
      "source": [
        "Optimo con 100"
      ],
      "metadata": {
        "id": "FqA86FxzP-N9"
      },
      "id": "FqA86FxzP-N9"
    },
    {
      "cell_type": "code",
      "source": [
        "rf_classifier = RandomForestClassifier(n_estimators = 100, random_state = 100)\n",
        "rf_classifier.fit(X_train, y_train)\n",
        "rf_classifier.score(X_test, y_test)"
      ],
      "metadata": {
        "colab": {
          "base_uri": "https://localhost:8080/"
        },
        "id": "Q5JDtaEXFVit",
        "outputId": "1176452b-7a4f-4aff-e7cf-016b2a90f1fc"
      },
      "id": "Q5JDtaEXFVit",
      "execution_count": 35,
      "outputs": [
        {
          "output_type": "execute_result",
          "data": {
            "text/plain": [
              "0.8131868131868132"
            ]
          },
          "metadata": {},
          "execution_count": 35
        }
      ]
    },
    {
      "cell_type": "code",
      "source": [
        "#Realizo una predicción\n",
        "y_train_pred_rf = rf_classifier.predict(X_train) #Prediccion en Train\n",
        "y_test_pred_rf = rf_classifier.predict(X_test) #Prediccion en Test\n"
      ],
      "metadata": {
        "id": "_35PsIraE16c"
      },
      "id": "_35PsIraE16c",
      "execution_count": 36,
      "outputs": []
    },
    {
      "cell_type": "code",
      "source": [
        "#Calculo el accuracy en Train\n",
        "train_accuracy_rf = accuracy_score(y_train, y_train_pred_rf)\n",
        "\n",
        "#Calculo el accuracy en Test\n",
        "test_accuracy_rf = accuracy_score(y_test, y_test_pred_rf)\n",
        "\n",
        "print(\"Train Accuracy {:.2f}%\".format(train_accuracy_rf*100))\n",
        "print(\"Test Accuracy {:.2f}%\".format(test_accuracy_rf*100))"
      ],
      "metadata": {
        "colab": {
          "base_uri": "https://localhost:8080/"
        },
        "id": "J3xqonqeExs7",
        "outputId": "e78502e3-1705-4d8b-ae99-e2a7f1a1d3f1"
      },
      "id": "J3xqonqeExs7",
      "execution_count": 38,
      "outputs": [
        {
          "output_type": "stream",
          "name": "stdout",
          "text": [
            "Train Accuracy 100.00%\n",
            "Test Accuracy 81.32%\n"
          ]
        }
      ]
    },
    {
      "cell_type": "code",
      "source": [
        "rdm_score = rf_classifier.score(X_test,y_test)\n",
        "print(\"Test Accuracy {:.2f}%\".format(rdm_score*100))"
      ],
      "metadata": {
        "colab": {
          "base_uri": "https://localhost:8080/"
        },
        "id": "7qEf59ZzOiwC",
        "outputId": "c9d046ac-9688-477f-a181-449c2eb4ec3f"
      },
      "id": "7qEf59ZzOiwC",
      "execution_count": 39,
      "outputs": [
        {
          "output_type": "stream",
          "name": "stdout",
          "text": [
            "Test Accuracy 81.32%\n"
          ]
        }
      ]
    },
    {
      "cell_type": "markdown",
      "source": [
        "**Comparativa de Modelos**"
      ],
      "metadata": {
        "id": "Np0UbT0puoba"
      },
      "id": "Np0UbT0puoba"
    },
    {
      "cell_type": "code",
      "execution_count": 41,
      "metadata": {
        "colab": {
          "base_uri": "https://localhost:8080/"
        },
        "id": "gj7Ku7VEH408",
        "outputId": "164ce5b1-d1df-4d5b-9d5a-1252e32e0a16"
      },
      "outputs": [
        {
          "output_type": "stream",
          "name": "stdout",
          "text": [
            "Modelo Árbol de decisión -> Test Accuracy 72.53%\n",
            "Modelo Regresión Logística -> Test Accuracy 81.32%\n",
            "Modelo KNN -> Test Accuracy 69.23%\n",
            "Modelo Random Forest -> Test Accuracy 81.32%\n"
          ]
        }
      ],
      "source": [
        "#COMPARATIVA\n",
        "print(\"Modelo Árbol de decisión -> Test Accuracy {:.2f}%\".format(test_accuracy_tr*100))\n",
        "print(\"Modelo Regresión Logística -> Test Accuracy {:.2f}%\".format(lr_score*100))\n",
        "print(\"Modelo KNN -> Test Accuracy {:.2f}%\".format(knn_classifier.score(X_test,y_test)*100))\n",
        "print(\"Modelo Random Forest -> Test Accuracy {:.2f}%\".format(test_accuracy_rf*100))"
      ],
      "id": "gj7Ku7VEH408"
    },
    {
      "cell_type": "code",
      "source": [
        "#COMPARATIVA\n",
        "print(\"Modelo Árbol de decisión -> Train Accuracy {:.2f}%\".format(train_accuracy_tr*100))\n",
        "print(\"Modelo Regresión Logística -> Train Accuracy {:.2f}%\".format(train_accuracy_rl*100))\n",
        "print(\"Modelo KNN -> Train Accuracy {:.2f}%\".format(knn_classifier.score(X_train,y_train)*100))\n",
        "print(\"Modelo Random Forest -> Test Accuracy {:.2f}%\".format(train_accuracy_rf*100))"
      ],
      "metadata": {
        "colab": {
          "base_uri": "https://localhost:8080/"
        },
        "id": "4TWypCfQBw_G",
        "outputId": "36f0ee7d-55f8-4d3e-e736-297e9ac624f8"
      },
      "id": "4TWypCfQBw_G",
      "execution_count": 42,
      "outputs": [
        {
          "output_type": "stream",
          "name": "stdout",
          "text": [
            "Modelo Árbol de decisión -> Train Accuracy 74.06%\n",
            "Modelo Regresión Logística -> Train Accuracy 87.26%\n",
            "Modelo KNN -> Train Accuracy 69.34%\n",
            "Modelo Random Forest -> Test Accuracy 100.00%\n"
          ]
        }
      ]
    },
    {
      "cell_type": "code",
      "execution_count": 43,
      "metadata": {
        "id": "Vcb9lj-vKNVR"
      },
      "outputs": [],
      "source": [
        "import matplotlib.pyplot as plt\n",
        "%matplotlib inline\n",
        "import warnings\n",
        "warnings.filterwarnings('ignore')"
      ],
      "id": "Vcb9lj-vKNVR"
    },
    {
      "cell_type": "code",
      "execution_count": 44,
      "metadata": {
        "id": "Duy8sUYYJqx0"
      },
      "outputs": [],
      "source": [
        "methods = [\"Árbol Decisión\",\"Regresión Logística\", \"KNN\", \"Random Forest\"]\n",
        "accuracy = [ar_score, lr_score, knn_score, rdm_score]"
      ],
      "id": "Duy8sUYYJqx0"
    },
    {
      "cell_type": "code",
      "execution_count": 45,
      "metadata": {
        "colab": {
          "base_uri": "https://localhost:8080/",
          "height": 436
        },
        "id": "3hVOb2D8JtTN",
        "outputId": "592e2bb1-7127-4987-d731-818ff1f0226b"
      },
      "outputs": [
        {
          "output_type": "display_data",
          "data": {
            "image/png": "[encoded data removed]",
            "text/plain": [
              "<Figure size 864x432 with 1 Axes>"
            ]
          },
          "metadata": {}
        }
      ],
      "source": [
        "sns.set()\n",
        "plt.figure(figsize=(12,6))\n",
        "plt.ylabel(\"Testing Accuracy %\")\n",
        "plt.xlabel(\"Model\")\n",
        "sns.barplot(x=methods, y=accuracy, palette=\"deep\")\n",
        "for idx, method in enumerate(methods):\n",
        "    plt.text(idx -0.1, accuracy[idx]+0.02, \"{:.2f}%\".format(accuracy[idx]*100))\n",
        "\n",
        "plt.tight_layout()\n"
      ],
      "id": "3hVOb2D8JtTN"
    },
    {
      "cell_type": "code",
      "source": [
        ""
      ],
      "metadata": {
        "id": "CD3RcPrmXAmb"
      },
      "id": "CD3RcPrmXAmb",
      "execution_count": null,
      "outputs": []
    }
  ],
  "metadata": {
    "kernelspec": {
      "display_name": "Python 3",
      "language": "python",
      "name": "python3"
    },
    "language_info": {
      "codemirror_mode": {
        "name": "ipython",
        "version": 3
      },
      "file_extension": ".py",
      "mimetype": "text/x-python",
      "name": "python",
      "nbconvert_exporter": "python",
      "pygments_lexer": "ipython3",
      "version": "3.8.8"
    },
    "colab": {
      "name": "02_Modelado.ipynb",
      "provenance": [],
      "collapsed_sections": []
    }
  },
  "nbformat": 4,
  "nbformat_minor": 5
}