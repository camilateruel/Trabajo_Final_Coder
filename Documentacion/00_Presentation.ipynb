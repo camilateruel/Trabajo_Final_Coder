{
  "cells": [
    {
      "cell_type": "markdown",
      "id": "46af48da",
      "metadata": {
        "id": "46af48da"
      },
      "source": [
        "![image.png](data:image/png;base64,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)\n",
        "\n",
        "\n",
        "# TRABAJO FINAL CODERHOUSE\n"
      ]
    },
    {
      "cell_type": "markdown",
      "id": "18be4cd6",
      "metadata": {
        "id": "18be4cd6"
      },
      "source": [
        "## Enfermedades del corazón\n",
        "\n",
        "El dataset escogido para la presentación de este proyecto contiene datos de pacientes los cuales pueden tener o no predisposición a enfermdades cardíacas. Los datos fueron recolctados por la universidad \"Donald Bren School of Information and Computer Sciences University\" en California. \n",
        "\n",
        "Este es un dataset de tipo multivariado lo cual significa que nos proveera con gran variedad de variables matemáticas que deberán ser analizadas. \n",
        "\n",
        "Para fines de hacerlo más real a los planteos del trabajo, se trabajará con la premisa de que los integrantes del grupo somos miembros del área de investigación del \"Hospital Nacional Universitario CoderHouse\"."
      ]
    },
    {
      "cell_type": "markdown",
      "id": "9bdeabfb",
      "metadata": {
        "id": "9bdeabfb"
      },
      "source": [
        "# Contenido\n",
        "1. [Equipo de trabajo](#1)\n",
        "2. [Objetivos](#2)\n",
        "3. [Introducción de la Empresa](#3)\n",
        "4. [Criterios de selección del Dataset](#4)\n",
        "5. [Descripción del Dataset](#5)"
      ]
    },
    {
      "cell_type": "markdown",
      "id": "49cabd0a",
      "metadata": {
        "id": "49cabd0a"
      },
      "source": [
        "# 1.Equipo de trabajo <a name=\"1\"></a>\n",
        "\n",
        "\n",
        "Este proyecto sera desarrollado por dos estudiantes del curso Data Science en [CoderHouse.](https://www.coderhouse.com) \n",
        "\n",
        "\n",
        "1.   Camila Teruel\n",
        "2.   Carlos Medina\n"
      ]
    },
    {
      "cell_type": "markdown",
      "id": "aad5d149",
      "metadata": {
        "id": "aad5d149"
      },
      "source": [
        "## 2. Objetivo del proyecto <a name=\"2\"></a>\n",
        "\n",
        "\n",
        "\n",
        "*   Selección de un dataset al cual se pueda aplicar un análisis exhaustivo y List item aplicar modelos estadísticos para predecir en base a una variable target.\n",
        "*   Realizar correcta lectura de los datos, incluyendo limpieza de datos y detectar outliers.\n",
        "* Realizar correcta lectura de los datos, incluyendo limpieza de datos y detectar outliers.\n",
        "* Realizar análisis univariado, bivariado y multivariado del dataset.\n",
        "* Determinar si el dataset cumple con los requisitos para el desarrollo del proyecto final.\n",
        "* Finalmente lograr responder las preguntas del problema principal planteado\n"
      ]
    },
    {
      "cell_type": "markdown",
      "id": "828f2821",
      "metadata": {
        "id": "828f2821"
      },
      "source": [
        "**Objetivo del análisis:**\n",
        "*El Hospital Universitario CoderHouse que se especializa en realizar investigaciones para mejorar la calidad de vida de los pacientes.\n",
        "En esta oportunidada se profundizó en encontrar patrones comunes en pacientes que sufren de enfermedades cardíacas y de ser posible encontrar condiciones óptimas para disminuir las probabilidades de enfermedades cardícas.*\n"
      ]
    },
    {
      "cell_type": "markdown",
      "source": [
        "## 3. Introducción de la Empresa <a name=\"3\"></a>\n",
        "\n",
        "Hospital Universitario CoderHouse fue fundado en 2014 en Buenos Aires, donde el foco siempre tuvo puesto en los pacientes para crear alternativas a lo tradicional y demostrar que la calidad del paciente es lo que nos mueve, se especializa en realizar investigaciones para mejorar la calidad de vida de los pacientes.\n",
        "\n",
        "Desde la alta dirección surgio la necesidad de encontrar patrones en los pacientes con enfermedades cardíacas, para poder adelantarnos a ciertos diagnósticos a los pacientes, de esta manera reducir significativamente los acidentes cardiovasculares y ayudar a mejorar sus condicones de vida.\n",
        "\n",
        "Por lo tanto, prevenir las enfermedades del corazón se ha vuelto más que necesario. Los buenos sistemas basados ​​en datos para predecir enfermedades cardíacas pueden mejorar todo el proceso de investigación y prevención, asegurando que más personas puedan vivir una vida saludable. Aquí es donde entra en juego el aprendizaje automático. El aprendizaje automático ayuda a predecir las enfermedades del corazón y las predicciones realizadas son bastante precisas.\n",
        "\n",
        "___________\n",
        "\n",
        "**Planteo del Problema:** Poder detectar que paciente es más probable que pueda sufrir de una enfermedad cardíaca dado factores o patrones comunes, en base al historial de pacientes que se tiene a disposición para analizar. Adelantandonos a esta situación así poder reducir el nivel de camas en uso en terapia intensiva."
      ],
      "metadata": {
        "id": "o56vNDaeOijd"
      },
      "id": "o56vNDaeOijd"
    },
    {
      "cell_type": "markdown",
      "id": "7a19febf",
      "metadata": {
        "id": "7a19febf"
      },
      "source": [
        "## 4.Criterios de selección del Datase <a name=\"4\"></a>\n",
        "\n",
        "Decidimos avanzar con el dataset de enfermedades cardíacas, ya que contamos con la información suficiente para poder predecir en base a las variables patrones comunes en pacientes que sufren de enfermedades cardíacas y de ser posible encontrar condiciones óptimas para disminuir las probabilidades de enfermedades cardíacas.\n",
        "\n",
        "Adicionalmente el criterio de decisión del dataset se respalda más adelante con los analisis univariado de las variables, analisis bivariados respecto a la variable target, perfilado de las variables donde se observan que tipo de distribuciones siguen las mismas y así poder detectar valores atípicos que pueden modificar los resultados del estudio.\n"
      ]
    },
    {
      "cell_type": "markdown",
      "source": [
        "## 5.Posibles hipoetesis <a name=\"5\"></a>\n",
        "\n",
        "Antes de empezar el estudio del data set se plantean una serie de hipótesis las cuales deben comprobadas o desmentidas con el análisis a realizar. \n",
        "\n",
        "\n",
        "\n",
        "1.   Las personas con alto colesterol son mas propensas a enfermedades cardíacas?  \n",
        "2.   Los hombres son mayor foco de enfermedades cardíacas debido a su poca actividad física\n",
        "3. Sin importar el genero, las enfermedades cardíacas se presentan después de los 50 an;os. \n",
        "\n"
      ],
      "metadata": {
        "id": "kjmmJkrHYf8B"
      },
      "id": "kjmmJkrHYf8B"
    },
    {
      "cell_type": "markdown",
      "id": "1cc6d5e3",
      "metadata": {
        "id": "1cc6d5e3"
      },
      "source": [
        "## 6.Descripción del Dataset <a name=\"6\"></a>\n",
        "\n",
        "Segun la documentación, este dataset tiene 13 columnas:\n",
        "<ol>\n",
        "  <li>Edad: Edad de la persona en años</li>\n",
        "  <li>Genero: 1=Masculino y 0=Femenino</li>\n",
        "  <li>Tipo de dolor en el pecho: Exiten tres criterios para clasificar los distintos tipo de angina: \n",
        "  <ul>\n",
        "    <li>Ubicación: el dolor en el pecho ocurre alrededor del esternón</li>\n",
        "    <li>Causa: el dolor se experimenta después de la inducción de estrés emocional/físico</li>\n",
        "    <li>Alivio: el dolor desaparece después de tomar nitroglicerina y / o descansar </li>\n",
        "    </ul>\n",
        "\n",
        "Este dataset contiene cuatro valores para la explicar del dolor en relacion con los puntos clasificadores anteriores\n",
        "  <ul>\n",
        "    <li>0: Angina típica (todos los criterios presentes)</li>\n",
        "    <li>1: Angina atípica (se cumplen dos de los tres criterios)</li>\n",
        "    <li>2: Dolor no anginoso (menos de un criterio satisfecho)</li>\n",
        "    <li>3: Asintomático (no se cumple ninguno de los criterios) </li>\n",
        "  </ul>\n",
        "\t<li>Presión arterial en reposo</li>\n",
        "\t<li>Colesterol sérico mg/dl</li>\n",
        "\t<li>Glucemia en ayunas > 120 mg/dl (probablemente diabético) 1 = verdadero; 0 = falso </li>\n",
        "\t<li>Resultados electrocardiográficos en reposo (valores=0,1,2)\n",
        "    <ul>\n",
        "    <li>0: normal</li>\n",
        "    <li>1: tener una anomalía de la onda</li>\n",
        "    <li>2: muestra hipertrofia ventricular izquierda probable o definitiva</li>\n",
        "    </ul>\n",
        "  </li>\n",
        "\t<li>Frecuencia cardíaca máxima</li>\n",
        "\t<li>Angina inducida por ejercicio (1 = si; 0 = no)</li>\n",
        "\t<li>Depresión inducida por el ejercicio en relación con el descanso</li>\n",
        "\t<li>La pendiente del segmento ST de ejercicio en su punto maximo( 0: descendente; 1: plano; 2: pendiente ascendente) </li>\n",
        "\t<li>Arterias con problemas</li>\n",
        "\t<li>Un trastorno sanguíneo llamado talasemia (0: NULO,1: defecto fijo,2: flujo sanguíneo normal,3: defecto reversible)</li>\n",
        " <li> Varible target: Enfermedad cardíaca (1 = no, 0 = sí)</li>\n",
        "</ol>"
      ]
    },
    {
      "cell_type": "markdown",
      "id": "accc008f",
      "metadata": {
        "id": "accc008f"
      },
      "source": [
        "En otra notebook presentaremos el desarrollo del trabajo realizado."
      ]
    }
  ],
  "metadata": {
    "kernelspec": {
      "display_name": "Python 3",
      "language": "python",
      "name": "python3"
    },
    "language_info": {
      "codemirror_mode": {
        "name": "ipython",
        "version": 3
      },
      "file_extension": ".py",
      "mimetype": "text/x-python",
      "name": "python",
      "nbconvert_exporter": "python",
      "pygments_lexer": "ipython3",
      "version": "3.8.8"
    },
    "colab": {
      "name": "00_Presentation.ipynb",
      "provenance": [],
      "collapsed_sections": []
    }
  },
  "nbformat": 4,
  "nbformat_minor": 5
}