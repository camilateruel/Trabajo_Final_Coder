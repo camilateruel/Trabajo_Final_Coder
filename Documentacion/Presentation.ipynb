{
 "cells": [
  {
   "attachments": {
    "image-2.png": {
     "image/png": "[encoded data removed]"
    }
   },
   "cell_type": "markdown",
   "id": "46af48da",
   "metadata": {},
   "source": [
    "![image-2.png](attachment:image-2.png)\n",
    "\n",
    "# TRABAJO FINAL CODERHOUSE\n"
   ]
  },
  {
   "cell_type": "markdown",
   "id": "18be4cd6",
   "metadata": {},
   "source": [
    "## Enfermedades del corazón\n",
    "\n",
    "El dataset escogido para la presentación de este proyecto contiene datos de pacientes los cuales pueden tener o no predisposición a enfermdades cardíacas. Los datos fueron recolctados por la universidad \"Donald Bren School of Information and Computer Sciences University\" en California. \n",
    "\n",
    "Este es un dataset de tipo multivariado lo cual significa que nos proveera con gran variedad de variables matemáticas que deberán ser analizadas. \n",
    "\n",
    "Para fines de hacerlo más real a los planteos del trabajo, se trabajará con la premisa de que los integrantes del grupo somos miembros del área de investigación del \"Hospital Nacional Universitario CoderHouse\"."
   ]
  },
  {
   "cell_type": "markdown",
   "id": "9bdeabfb",
   "metadata": {},
   "source": [
    "# Contenido\n",
    "1. [Equipo de trabajo](#1)\n",
    "2. [Objetivos](#2)\n",
    "3. [Criterios de selección del Dataset](#3)\n",
    "4. [Descripción del Dataset](#4)"
   ]
  },
  {
   "cell_type": "markdown",
   "id": "49cabd0a",
   "metadata": {},
   "source": [
    "# 1.Equipo de trabajo <a name=\"1\"></a>\n",
    "\n",
    "\n",
    "Este proyecto sera desarrollado por dos estudiantes del curso Data Science en [CoderHouse.](https://www.coderhouse.com) \n",
    "\n",
    "\n",
    "1.   Camila Teruel\n",
    "2.   Carlos Medina\n"
   ]
  },
  {
   "cell_type": "markdown",
   "id": "aad5d149",
   "metadata": {},
   "source": [
    "## 2. Objetivo del proyecto <a name=\"2\"></a>\n",
    "\n",
    "*   Selección de un dataset al cual se pueda aplicar un analisis exhaustivo y aplicar modelos estadisticos para predecir en base a una variable target.\n",
    "*   Realizar correcta lectura de los datos, incluyendo limpieza de datos y detectar  outliers.\n",
    "*   Realizar analsis univariado, bivariado y multivariado del dataset\n",
    "*   Determinar si el dataset cumple con los requistos para el desarrollo del proyecto final\n",
    "*   Finalmente lograr responder las preguntas del problema principal planteado"
   ]
  },
  {
   "cell_type": "markdown",
   "id": "828f2821",
   "metadata": {},
   "source": [
    "**Objetivo del análisis:**\n",
    "*El Hospital Universitario CoderHouse que se especializa en realizar investigaciones para mejorar la calidad de vida de los pacientes.\n",
    "En esta oportunidada se profundizó en encontrar patrones comunes en pacientes que sufren de enfermedades cardíacas y de ser posible encontrar condiciones óptimas para disminuir las probabilidades de enfermedades cardícas.*\n"
   ]
  },
  {
   "cell_type": "markdown",
   "id": "7a19febf",
   "metadata": {},
   "source": [
    "## 3.Criterios de selección del Datase <a name=\"3\"></a>\n",
    "\n",
    "Decidimos avanzar con el dataset de enfermedades cardíacas, ya que contamos con la información suficiente para poder predecir en base a las variables patrones comunes en pacientes que sufren de enfermedades cardíacas y de ser posible encontrar condiciones óptimas para disminuir las probabilidades de enfermedades cardíacas.\n",
    "\n",
    "Adicionalmente el criterio de decisión del dataset se respalda más adelante con los analisis univariado de las variables, analisis bivariados respecto a la variable target, perfilado de las variables donde se observan que tipo de distribuciones siguen las mismas y así poder detectar valores atípicos que pueden modificar los resultados del estudio.\n"
   ]
  },
  {
   "cell_type": "markdown",
   "id": "1cc6d5e3",
   "metadata": {},
   "source": [
    "## 4.Descripción del Dataset <a name=\"4\"></a>\n",
    "\n",
    "Segun la documentación, este dataset tiene 13 columnas:\n",
    "<ol>\n",
    "  <li>Edad: Edad de la persona en años</li>\n",
    "  <li>Genero: 1=Masculino y 0=Femenino</li>\n",
    "  <li>Tipo de dolor en el pecho: Exiten tres criterios para clasificar los distintos tipo de angina: \n",
    "  <ul>\n",
    "    <li>Ubicación: el dolor en el pecho ocurre alrededor del esternón</li>\n",
    "    <li>Causa: el dolor se experimenta después de la inducción de estrés emocional/físico</li>\n",
    "    <li>Alivio: el dolor desaparece después de tomar nitroglicerina y / o descansar </li>\n",
    "    </ul>\n",
    "\n",
    "Este dataset contiene cuatro valores para la explicar del dolor en relacion con los puntos clasificadores anteriores\n",
    "  <ul>\n",
    "    <li>0: Angina típica (todos los criterios presentes)</li>\n",
    "    <li>1: Angina atípica (se cumplen dos de los tres criterios)</li>\n",
    "    <li>2: Dolor no anginoso (menos de un criterio satisfecho)</li>\n",
    "    <li>3: Asintomático (no se cumple ninguno de los criterios) </li>\n",
    "  </ul>\n",
    "\t<li>Presión arterial en reposo</li>\n",
    "\t<li>Colesterol sérico mg/dl</li>\n",
    "\t<li>Glucemia en ayunas > 120 mg/dl (probablemente diabético) 1 = verdadero; 0 = falso </li>\n",
    "\t<li>Resultados electrocardiográficos en reposo (valores=0,1,2)\n",
    "    <ul>\n",
    "    <li>0: normal</li>\n",
    "    <li>1: tener una anomalía de la onda</li>\n",
    "    <li>2: muestra hipertrofia ventricular izquierda probable o definitiva</li>\n",
    "    </ul>\n",
    "  </li>\n",
    "\t<li>Frecuencia cardíaca máxima</li>\n",
    "\t<li>Angina inducida por ejercicio (1 = si; 0 = no)</li>\n",
    "\t<li>Depresión inducida por el ejercicio en relación con el descanso</li>\n",
    "\t<li>La pendiente del segmento ST de ejercicio en su punto maximo( 0: descendente; 1: plano; 2: pendiente ascendente) </li>\n",
    "\t<li>Arterias con problemas</li>\n",
    "\t<li>Un trastorno sanguíneo llamado talasemia (0: NULO,1: defecto fijo,2: flujo sanguíneo normal,3: defecto reversible)</li>\n",
    " <li> Varible target: Enfermedad cardíaca (1 = no, 0 = sí)</li>\n",
    "</ol>"
   ]
  },
  {
   "cell_type": "markdown",
   "id": "accc008f",
   "metadata": {},
   "source": [
    "En otra notebook presentaremos el desarrollo del trabajo realizado."
   ]
  }
 ],
 "metadata": {
  "kernelspec": {
   "display_name": "Python 3",
   "language": "python",
   "name": "python3"
  },
  "language_info": {
   "codemirror_mode": {
    "name": "ipython",
    "version": 3
   },
   "file_extension": ".py",
   "mimetype": "text/x-python",
   "name": "python",
   "nbconvert_exporter": "python",
   "pygments_lexer": "ipython3",
   "version": "3.8.8"
  }
 },
 "nbformat": 4,
 "nbformat_minor": 5
}
